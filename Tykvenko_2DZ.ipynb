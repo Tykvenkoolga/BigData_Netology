{
 "cells": [
  {
   "cell_type": "code",
   "execution_count": 12,
   "metadata": {},
   "outputs": [],
   "source": [
    "import numpy as np\n",
    "import pandas as pd\n",
    "\n",
    "\n",
    "from sklearn.model_selection import train_test_split\n",
    "from sklearn.linear_model import LinearRegression\n",
    "from sklearn.metrics import mean_squared_error\n",
    "from sklearn.metrics import r2_score\n",
    "from sklearn.metrics import mean_absolute_error"
   ]
  },
  {
   "cell_type": "markdown",
   "metadata": {},
   "source": [
    "Загрузка файла"
   ]
  },
  {
   "cell_type": "code",
   "execution_count": 28,
   "metadata": {
    "scrolled": true
   },
   "outputs": [
    {
     "data": {
      "text/html": [
       "<div>\n",
       "<style scoped>\n",
       "    .dataframe tbody tr th:only-of-type {\n",
       "        vertical-align: middle;\n",
       "    }\n",
       "\n",
       "    .dataframe tbody tr th {\n",
       "        vertical-align: top;\n",
       "    }\n",
       "\n",
       "    .dataframe thead th {\n",
       "        text-align: right;\n",
       "    }\n",
       "</style>\n",
       "<table border=\"1\" class=\"dataframe\">\n",
       "  <thead>\n",
       "    <tr style=\"text-align: right;\">\n",
       "      <th></th>\n",
       "      <th>crim</th>\n",
       "      <th>zn</th>\n",
       "      <th>indus</th>\n",
       "      <th>chas</th>\n",
       "      <th>nox</th>\n",
       "      <th>rm</th>\n",
       "      <th>age</th>\n",
       "      <th>dis</th>\n",
       "      <th>rad</th>\n",
       "      <th>tax</th>\n",
       "      <th>ptratio</th>\n",
       "      <th>black</th>\n",
       "      <th>lstat</th>\n",
       "      <th>medv</th>\n",
       "    </tr>\n",
       "  </thead>\n",
       "  <tbody>\n",
       "    <tr>\n",
       "      <th>0</th>\n",
       "      <td>0.00632</td>\n",
       "      <td>18.0</td>\n",
       "      <td>2.31</td>\n",
       "      <td>0</td>\n",
       "      <td>0.538</td>\n",
       "      <td>6.575</td>\n",
       "      <td>65.2</td>\n",
       "      <td>4.0900</td>\n",
       "      <td>1</td>\n",
       "      <td>296</td>\n",
       "      <td>15.3</td>\n",
       "      <td>396.90</td>\n",
       "      <td>4.98</td>\n",
       "      <td>24.0</td>\n",
       "    </tr>\n",
       "    <tr>\n",
       "      <th>1</th>\n",
       "      <td>0.02731</td>\n",
       "      <td>0.0</td>\n",
       "      <td>7.07</td>\n",
       "      <td>0</td>\n",
       "      <td>0.469</td>\n",
       "      <td>6.421</td>\n",
       "      <td>78.9</td>\n",
       "      <td>4.9671</td>\n",
       "      <td>2</td>\n",
       "      <td>242</td>\n",
       "      <td>17.8</td>\n",
       "      <td>396.90</td>\n",
       "      <td>9.14</td>\n",
       "      <td>21.6</td>\n",
       "    </tr>\n",
       "    <tr>\n",
       "      <th>2</th>\n",
       "      <td>0.03237</td>\n",
       "      <td>0.0</td>\n",
       "      <td>2.18</td>\n",
       "      <td>0</td>\n",
       "      <td>0.458</td>\n",
       "      <td>6.998</td>\n",
       "      <td>45.8</td>\n",
       "      <td>6.0622</td>\n",
       "      <td>3</td>\n",
       "      <td>222</td>\n",
       "      <td>18.7</td>\n",
       "      <td>394.63</td>\n",
       "      <td>2.94</td>\n",
       "      <td>33.4</td>\n",
       "    </tr>\n",
       "    <tr>\n",
       "      <th>3</th>\n",
       "      <td>0.06905</td>\n",
       "      <td>0.0</td>\n",
       "      <td>2.18</td>\n",
       "      <td>0</td>\n",
       "      <td>0.458</td>\n",
       "      <td>7.147</td>\n",
       "      <td>54.2</td>\n",
       "      <td>6.0622</td>\n",
       "      <td>3</td>\n",
       "      <td>222</td>\n",
       "      <td>18.7</td>\n",
       "      <td>396.90</td>\n",
       "      <td>5.33</td>\n",
       "      <td>36.2</td>\n",
       "    </tr>\n",
       "    <tr>\n",
       "      <th>4</th>\n",
       "      <td>0.08829</td>\n",
       "      <td>12.5</td>\n",
       "      <td>7.87</td>\n",
       "      <td>0</td>\n",
       "      <td>0.524</td>\n",
       "      <td>6.012</td>\n",
       "      <td>66.6</td>\n",
       "      <td>5.5605</td>\n",
       "      <td>5</td>\n",
       "      <td>311</td>\n",
       "      <td>15.2</td>\n",
       "      <td>395.60</td>\n",
       "      <td>12.43</td>\n",
       "      <td>22.9</td>\n",
       "    </tr>\n",
       "  </tbody>\n",
       "</table>\n",
       "</div>"
      ],
      "text/plain": [
       "      crim    zn  indus  chas    nox     rm   age     dis  rad  tax  ptratio  \\\n",
       "0  0.00632  18.0   2.31     0  0.538  6.575  65.2  4.0900    1  296     15.3   \n",
       "1  0.02731   0.0   7.07     0  0.469  6.421  78.9  4.9671    2  242     17.8   \n",
       "2  0.03237   0.0   2.18     0  0.458  6.998  45.8  6.0622    3  222     18.7   \n",
       "3  0.06905   0.0   2.18     0  0.458  7.147  54.2  6.0622    3  222     18.7   \n",
       "4  0.08829  12.5   7.87     0  0.524  6.012  66.6  5.5605    5  311     15.2   \n",
       "\n",
       "    black  lstat  medv  \n",
       "0  396.90   4.98  24.0  \n",
       "1  396.90   9.14  21.6  \n",
       "2  394.63   2.94  33.4  \n",
       "3  396.90   5.33  36.2  \n",
       "4  395.60  12.43  22.9  "
      ]
     },
     "execution_count": 28,
     "metadata": {},
     "output_type": "execute_result"
    }
   ],
   "source": [
    "bn = pd.read_csv('homework.csv')\n",
    "bn = bn.drop(['ID'], axis=1)\n",
    "bn.head()"
   ]
  },
  {
   "cell_type": "markdown",
   "metadata": {},
   "source": [
    "Информация о датасете, просмотр пропущенных значений. У нас пропущеных значений нет"
   ]
  },
  {
   "cell_type": "code",
   "execution_count": 21,
   "metadata": {
    "scrolled": false
   },
   "outputs": [
    {
     "name": "stdout",
     "output_type": "stream",
     "text": [
      "<class 'pandas.core.frame.DataFrame'>\n",
      "RangeIndex: 333 entries, 0 to 332\n",
      "Data columns (total 14 columns):\n",
      "crim       333 non-null float64\n",
      "zn         333 non-null float64\n",
      "indus      333 non-null float64\n",
      "chas       333 non-null int64\n",
      "nox        333 non-null float64\n",
      "rm         333 non-null float64\n",
      "age        333 non-null float64\n",
      "dis        333 non-null float64\n",
      "rad        333 non-null int64\n",
      "tax        333 non-null int64\n",
      "ptratio    333 non-null float64\n",
      "black      333 non-null float64\n",
      "lstat      333 non-null float64\n",
      "medv       333 non-null float64\n",
      "dtypes: float64(11), int64(3)\n",
      "memory usage: 36.5 KB\n"
     ]
    }
   ],
   "source": [
    "bn.info()"
   ]
  },
  {
   "cell_type": "markdown",
   "metadata": {},
   "source": [
    "Так как у имеющихся значений высокая корреляция, да и самих колонок не так много, то можем оставить датафрейм без изменений"
   ]
  },
  {
   "cell_type": "code",
   "execution_count": 22,
   "metadata": {
    "scrolled": true
   },
   "outputs": [
    {
     "data": {
      "text/html": [
       "<div>\n",
       "<style scoped>\n",
       "    .dataframe tbody tr th:only-of-type {\n",
       "        vertical-align: middle;\n",
       "    }\n",
       "\n",
       "    .dataframe tbody tr th {\n",
       "        vertical-align: top;\n",
       "    }\n",
       "\n",
       "    .dataframe thead th {\n",
       "        text-align: right;\n",
       "    }\n",
       "</style>\n",
       "<table border=\"1\" class=\"dataframe\">\n",
       "  <thead>\n",
       "    <tr style=\"text-align: right;\">\n",
       "      <th></th>\n",
       "      <th>Feature_1</th>\n",
       "      <th>Feature_2</th>\n",
       "      <th>r</th>\n",
       "    </tr>\n",
       "  </thead>\n",
       "  <tbody>\n",
       "    <tr>\n",
       "      <th>0</th>\n",
       "      <td>medv</td>\n",
       "      <td>medv</td>\n",
       "      <td>1.000000</td>\n",
       "    </tr>\n",
       "    <tr>\n",
       "      <th>22</th>\n",
       "      <td>medv</td>\n",
       "      <td>lstat</td>\n",
       "      <td>0.738600</td>\n",
       "    </tr>\n",
       "    <tr>\n",
       "      <th>30</th>\n",
       "      <td>medv</td>\n",
       "      <td>rm</td>\n",
       "      <td>0.689598</td>\n",
       "    </tr>\n",
       "    <tr>\n",
       "      <th>72</th>\n",
       "      <td>medv</td>\n",
       "      <td>ptratio</td>\n",
       "      <td>0.481376</td>\n",
       "    </tr>\n",
       "    <tr>\n",
       "      <th>78</th>\n",
       "      <td>medv</td>\n",
       "      <td>indus</td>\n",
       "      <td>0.473932</td>\n",
       "    </tr>\n",
       "    <tr>\n",
       "      <th>87</th>\n",
       "      <td>medv</td>\n",
       "      <td>tax</td>\n",
       "      <td>0.448078</td>\n",
       "    </tr>\n",
       "    <tr>\n",
       "      <th>95</th>\n",
       "      <td>medv</td>\n",
       "      <td>nox</td>\n",
       "      <td>0.413054</td>\n",
       "    </tr>\n",
       "    <tr>\n",
       "      <th>97</th>\n",
       "      <td>medv</td>\n",
       "      <td>crim</td>\n",
       "      <td>0.407454</td>\n",
       "    </tr>\n",
       "    <tr>\n",
       "      <th>118</th>\n",
       "      <td>medv</td>\n",
       "      <td>age</td>\n",
       "      <td>0.358888</td>\n",
       "    </tr>\n",
       "    <tr>\n",
       "      <th>125</th>\n",
       "      <td>medv</td>\n",
       "      <td>rad</td>\n",
       "      <td>0.352251</td>\n",
       "    </tr>\n",
       "  </tbody>\n",
       "</table>\n",
       "</div>"
      ],
      "text/plain": [
       "    Feature_1 Feature_2         r\n",
       "0        medv      medv  1.000000\n",
       "22       medv     lstat  0.738600\n",
       "30       medv        rm  0.689598\n",
       "72       medv   ptratio  0.481376\n",
       "78       medv     indus  0.473932\n",
       "87       medv       tax  0.448078\n",
       "95       medv       nox  0.413054\n",
       "97       medv      crim  0.407454\n",
       "118      medv       age  0.358888\n",
       "125      medv       rad  0.352251"
      ]
     },
     "execution_count": 22,
     "metadata": {},
     "output_type": "execute_result"
    }
   ],
   "source": [
    "corrmat = bn.corr()\n",
    "fcor=corrmat.abs().unstack().sort_values(ascending=False).reset_index()\n",
    "fcor.columns = ['Feature_1', 'Feature_2','r']\n",
    "fcor.query('Feature_2 !=\"diagnosis\" & Feature_1 == \"medv\"').head(10)"
   ]
  },
  {
   "cell_type": "markdown",
   "metadata": {},
   "source": [
    "Нормализуем данные, а также исключим прогнозируемую колонку medv"
   ]
  },
  {
   "cell_type": "code",
   "execution_count": 29,
   "metadata": {},
   "outputs": [],
   "source": [
    "X = bn.drop(['medv'], axis=1)\n",
    "y = bn.medv"
   ]
  },
  {
   "cell_type": "code",
   "execution_count": 43,
   "metadata": {},
   "outputs": [
    {
     "data": {
      "text/html": [
       "<div>\n",
       "<style scoped>\n",
       "    .dataframe tbody tr th:only-of-type {\n",
       "        vertical-align: middle;\n",
       "    }\n",
       "\n",
       "    .dataframe tbody tr th {\n",
       "        vertical-align: top;\n",
       "    }\n",
       "\n",
       "    .dataframe thead th {\n",
       "        text-align: right;\n",
       "    }\n",
       "</style>\n",
       "<table border=\"1\" class=\"dataframe\">\n",
       "  <thead>\n",
       "    <tr style=\"text-align: right;\">\n",
       "      <th></th>\n",
       "      <th>crim</th>\n",
       "      <th>zn</th>\n",
       "      <th>indus</th>\n",
       "      <th>chas</th>\n",
       "      <th>nox</th>\n",
       "      <th>rm</th>\n",
       "      <th>age</th>\n",
       "      <th>dis</th>\n",
       "      <th>rad</th>\n",
       "      <th>tax</th>\n",
       "      <th>ptratio</th>\n",
       "      <th>black</th>\n",
       "      <th>lstat</th>\n",
       "    </tr>\n",
       "  </thead>\n",
       "  <tbody>\n",
       "    <tr>\n",
       "      <th>0</th>\n",
       "      <td>-0.456875</td>\n",
       "      <td>0.322906</td>\n",
       "      <td>-1.285631</td>\n",
       "      <td>-0.25278</td>\n",
       "      <td>-0.166787</td>\n",
       "      <td>0.440154</td>\n",
       "      <td>-0.107736</td>\n",
       "      <td>0.192133</td>\n",
       "      <td>-0.98907</td>\n",
       "      <td>-0.664062</td>\n",
       "      <td>-1.465171</td>\n",
       "      <td>0.432990</td>\n",
       "      <td>-1.067772</td>\n",
       "    </tr>\n",
       "    <tr>\n",
       "      <th>1</th>\n",
       "      <td>-0.454016</td>\n",
       "      <td>-0.472123</td>\n",
       "      <td>-0.604425</td>\n",
       "      <td>-0.25278</td>\n",
       "      <td>-0.767928</td>\n",
       "      <td>0.221060</td>\n",
       "      <td>0.379963</td>\n",
       "      <td>0.635528</td>\n",
       "      <td>-0.87451</td>\n",
       "      <td>-0.980620</td>\n",
       "      <td>-0.301616</td>\n",
       "      <td>0.432990</td>\n",
       "      <td>-0.478299</td>\n",
       "    </tr>\n",
       "    <tr>\n",
       "      <th>2</th>\n",
       "      <td>-0.453327</td>\n",
       "      <td>-0.472123</td>\n",
       "      <td>-1.304235</td>\n",
       "      <td>-0.25278</td>\n",
       "      <td>-0.863762</td>\n",
       "      <td>1.041952</td>\n",
       "      <td>-0.798347</td>\n",
       "      <td>1.189127</td>\n",
       "      <td>-0.75995</td>\n",
       "      <td>-1.097863</td>\n",
       "      <td>0.117264</td>\n",
       "      <td>0.406733</td>\n",
       "      <td>-1.356840</td>\n",
       "    </tr>\n",
       "    <tr>\n",
       "      <th>3</th>\n",
       "      <td>-0.448330</td>\n",
       "      <td>-0.472123</td>\n",
       "      <td>-1.304235</td>\n",
       "      <td>-0.25278</td>\n",
       "      <td>-0.863762</td>\n",
       "      <td>1.253933</td>\n",
       "      <td>-0.499320</td>\n",
       "      <td>1.189127</td>\n",
       "      <td>-0.75995</td>\n",
       "      <td>-1.097863</td>\n",
       "      <td>0.117264</td>\n",
       "      <td>0.432990</td>\n",
       "      <td>-1.018177</td>\n",
       "    </tr>\n",
       "    <tr>\n",
       "      <th>4</th>\n",
       "      <td>-0.445709</td>\n",
       "      <td>0.079980</td>\n",
       "      <td>-0.489936</td>\n",
       "      <td>-0.25278</td>\n",
       "      <td>-0.288758</td>\n",
       "      <td>-0.360821</td>\n",
       "      <td>-0.057898</td>\n",
       "      <td>0.935505</td>\n",
       "      <td>-0.53083</td>\n",
       "      <td>-0.576130</td>\n",
       "      <td>-1.511713</td>\n",
       "      <td>0.417953</td>\n",
       "      <td>-0.012106</td>\n",
       "    </tr>\n",
       "  </tbody>\n",
       "</table>\n",
       "</div>"
      ],
      "text/plain": [
       "       crim        zn     indus     chas       nox        rm       age  \\\n",
       "0 -0.456875  0.322906 -1.285631 -0.25278 -0.166787  0.440154 -0.107736   \n",
       "1 -0.454016 -0.472123 -0.604425 -0.25278 -0.767928  0.221060  0.379963   \n",
       "2 -0.453327 -0.472123 -1.304235 -0.25278 -0.863762  1.041952 -0.798347   \n",
       "3 -0.448330 -0.472123 -1.304235 -0.25278 -0.863762  1.253933 -0.499320   \n",
       "4 -0.445709  0.079980 -0.489936 -0.25278 -0.288758 -0.360821 -0.057898   \n",
       "\n",
       "        dis      rad       tax   ptratio     black     lstat  \n",
       "0  0.192133 -0.98907 -0.664062 -1.465171  0.432990 -1.067772  \n",
       "1  0.635528 -0.87451 -0.980620 -0.301616  0.432990 -0.478299  \n",
       "2  1.189127 -0.75995 -1.097863  0.117264  0.406733 -1.356840  \n",
       "3  1.189127 -0.75995 -1.097863  0.117264  0.432990 -1.018177  \n",
       "4  0.935505 -0.53083 -0.576130 -1.511713  0.417953 -0.012106  "
      ]
     },
     "execution_count": 43,
     "metadata": {},
     "output_type": "execute_result"
    }
   ],
   "source": [
    "col = X.columns\n",
    "X = StandardScaler().fit_transform(X)\n",
    "X = pd.DataFrame(X, columns=col).astype('float64')\n",
    "X.head()"
   ]
  },
  {
   "cell_type": "markdown",
   "metadata": {},
   "source": [
    "Разделим на трейн и тест"
   ]
  },
  {
   "cell_type": "code",
   "execution_count": 30,
   "metadata": {},
   "outputs": [],
   "source": [
    "X_train, X_test, y_train, y_test = train_test_split(X, y, test_size=0.3)"
   ]
  },
  {
   "cell_type": "markdown",
   "metadata": {},
   "source": [
    "Решим задачу методом линейной регрессии"
   ]
  },
  {
   "cell_type": "code",
   "execution_count": 31,
   "metadata": {},
   "outputs": [],
   "source": [
    "bnm = LinearRegression()"
   ]
  },
  {
   "cell_type": "code",
   "execution_count": 32,
   "metadata": {},
   "outputs": [
    {
     "data": {
      "text/plain": [
       "LinearRegression(copy_X=True, fit_intercept=True, n_jobs=None,\n",
       "         normalize=False)"
      ]
     },
     "execution_count": 32,
     "metadata": {},
     "output_type": "execute_result"
    }
   ],
   "source": [
    "bnm.fit(X_train, y_train)"
   ]
  },
  {
   "cell_type": "code",
   "execution_count": 33,
   "metadata": {
    "scrolled": true
   },
   "outputs": [
    {
     "data": {
      "text/plain": [
       "(25.45398280437683,\n",
       " array([-2.35963335e-02,  5.22049640e-02,  4.07677738e-02,  2.70891600e+00,\n",
       "        -1.22719027e+01,  4.67308377e+00, -7.63623392e-03, -1.50886949e+00,\n",
       "         2.64523383e-01, -1.06490040e-02, -7.75373679e-01,  9.15075908e-03,\n",
       "        -5.64205190e-01]))"
      ]
     },
     "execution_count": 33,
     "metadata": {},
     "output_type": "execute_result"
    }
   ],
   "source": [
    "bnm.intercept_, bnm.coef_"
   ]
  },
  {
   "cell_type": "code",
   "execution_count": 34,
   "metadata": {},
   "outputs": [
    {
     "data": {
      "text/plain": [
       "0.6647488510185884"
      ]
     },
     "execution_count": 34,
     "metadata": {},
     "output_type": "execute_result"
    }
   ],
   "source": [
    "y_pred=bnm.predict(X_test)\n",
    "bnm.score(X_test,y_test)"
   ]
  },
  {
   "cell_type": "code",
   "execution_count": 35,
   "metadata": {
    "scrolled": true
   },
   "outputs": [
    {
     "data": {
      "text/plain": [
       "array([14.03523164, 11.3307701 , 36.60825889, 19.84781941, 19.47150274,\n",
       "       19.92905659, 25.5989315 , 12.93921866, 25.35668038, 22.70899348,\n",
       "       18.00299778, 16.83928647, 29.00939761, 19.10467293, 33.37522178,\n",
       "       23.49006286, 21.19051049, 32.11997472, 39.98370383, 24.45683062,\n",
       "       14.24946278, 18.00138404, 34.85665759, 17.01513186, 23.25755376,\n",
       "       38.7059742 , 16.77246386,  8.59573053, 20.51390076, 34.04412472,\n",
       "       11.79574807, 33.06250353, 16.90707074, 25.49287727, 22.98483043,\n",
       "       14.58158266, 29.85331214, 19.40336544, 22.2666031 , 20.15973417,\n",
       "       14.31066727, 28.06730324, 31.4246925 , 24.21856021, 25.11852398,\n",
       "       27.32071452, 26.85333084, 32.41308516, 14.81789455, 24.95996604,\n",
       "        9.88782574, 26.87774276, 20.42650117, 27.34082951, 21.95400662,\n",
       "       33.39661566, 30.83954031, 28.56950961, 20.20076788, 28.52810682,\n",
       "       29.06548588, 24.5201477 , 24.45787658, 21.78010747, 18.32431541,\n",
       "       23.64354501,  7.05768207, 22.7088485 , 14.69645133, 23.97452355,\n",
       "       15.11608281, 19.59635398, 29.30056692, 20.10474492, 30.64245562,\n",
       "       14.14218176, 22.45986063, 27.19648534, 20.35192462, 19.07110068,\n",
       "       13.83410995, 10.60528921, 24.51475227, 30.14754662, 33.192799  ,\n",
       "       26.93634387, 25.04355768, 40.60979385, 22.02283104, 11.42017566,\n",
       "       13.88203646, 16.36329697, 15.71105693, 19.47265567, 18.1149299 ,\n",
       "       17.75725181, 23.32528856, 13.52190572, 17.41279331, 15.67728946])"
      ]
     },
     "execution_count": 35,
     "metadata": {},
     "output_type": "execute_result"
    }
   ],
   "source": [
    "y_predicted_prob = bnm.predict(X_test)\n",
    "y_predicted_prob"
   ]
  },
  {
   "cell_type": "code",
   "execution_count": 36,
   "metadata": {},
   "outputs": [
    {
     "data": {
      "text/plain": [
       "25.625908551776796"
      ]
     },
     "execution_count": 36,
     "metadata": {},
     "output_type": "execute_result"
    }
   ],
   "source": [
    "mean_squared_error(y_test, y_pred)"
   ]
  },
  {
   "cell_type": "code",
   "execution_count": 37,
   "metadata": {},
   "outputs": [
    {
     "data": {
      "text/plain": [
       "0.6647488510185884"
      ]
     },
     "execution_count": 37,
     "metadata": {},
     "output_type": "execute_result"
    }
   ],
   "source": [
    "r2_score(y_test, y_pred)"
   ]
  },
  {
   "cell_type": "code",
   "execution_count": 38,
   "metadata": {
    "scrolled": true
   },
   "outputs": [
    {
     "data": {
      "text/plain": [
       "3.4021524108381693"
      ]
     },
     "execution_count": 38,
     "metadata": {},
     "output_type": "execute_result"
    }
   ],
   "source": [
    "mean_absolute_error(y_test, y_pred)"
   ]
  }
 ],
 "metadata": {
  "kernelspec": {
   "display_name": "Python 3",
   "language": "python",
   "name": "python3"
  },
  "language_info": {
   "codemirror_mode": {
    "name": "ipython",
    "version": 3
   },
   "file_extension": ".py",
   "mimetype": "text/x-python",
   "name": "python",
   "nbconvert_exporter": "python",
   "pygments_lexer": "ipython3",
   "version": "3.7.1"
  }
 },
 "nbformat": 4,
 "nbformat_minor": 2
}
